{
 "cells": [
  {
   "cell_type": "markdown",
   "id": "center-appeal",
   "metadata": {},
   "source": [
    "# Linked List"
   ]
  },
  {
   "cell_type": "markdown",
   "id": "deadly-possibility",
   "metadata": {},
   "source": [
    "[Linked List using Python](https://github.com/codebasics/data-structures-algorithms-python/blob/master/data_structures/3_LinkedList/3_linked_list.py)"
   ]
  },
  {
   "cell_type": "code",
   "execution_count": 1,
   "id": "photographic-designation",
   "metadata": {},
   "outputs": [],
   "source": [
    "class Node:\n",
    "    def __init__(self, data = None, next = None):\n",
    "        self.data = data\n",
    "        self.next = next"
   ]
  },
  {
   "cell_type": "code",
   "execution_count": 12,
   "id": "systematic-projector",
   "metadata": {},
   "outputs": [],
   "source": [
    "class LinkedList:\n",
    "    def __init__(self):\n",
    "        self.head = None\n",
    "    \n",
    "    # print the whole linked list:\n",
    "    def print_linked_list(self):\n",
    "        if self.head is None:\n",
    "            print(\"Linked list is empty!\")\n",
    "            return\n",
    "        \n",
    "        itr = self.head\n",
    "        llstr = ''\n",
    "        while itr:\n",
    "            llstr += str(itr.data) + \"-->\" if itr.next else str(itr.data)\n",
    "            itr = itr.next\n",
    "        print(llstr)\n",
    "    \n",
    "    # get the length of the linked list:\n",
    "    def get_length(self):\n",
    "        count = 0\n",
    "        itr = self.head\n",
    "        while itr:\n",
    "            count += 1\n",
    "            itr = itr.next\n",
    "        return count\n",
    "    \n",
    "    # insert at the beginning of the linked list\n",
    "    def insert_at_beginning(self,data):\n",
    "        node = Node(data,self.head)\n",
    "        self.head = node\n",
    "    \n",
    "    # insert at the end of the linked list\n",
    "    def insert_at_end(self,data):\n",
    "        if self.head is None:\n",
    "            self.head = Node(data,None)\n",
    "            return\n",
    "        \n",
    "        itr = self.head\n",
    "        while itr.next:\n",
    "            itr = itr.next\n",
    "        itr.next = Node(data,None)\n",
    "    \n",
    "    # insert at an index\n",
    "    def insert_at(self,index,data):\n",
    "        if index < 0 or index > self.get_length():\n",
    "            raise Exception(\"Invalid Index\")\n",
    "        \n",
    "        if index == 0:\n",
    "            self.insert_at_beginning(data)\n",
    "            return\n",
    "        \n",
    "        count = 0\n",
    "        itr = self.head\n",
    "        while itr:\n",
    "            if count == index - 1:\n",
    "                node = Node(data,itr.next)\n",
    "                itr.next = node\n",
    "                break\n",
    "            itr = itr.next\n",
    "            count += 1\n",
    "    \n",
    "    # remove at an index\n",
    "    def remove_at(self,index):\n",
    "        if index < 0 or index > self.get_length():\n",
    "            raise Exception(\"Invalid Index\")\n",
    "        \n",
    "        if index == 0:\n",
    "            self.head = self.head.next\n",
    "            return\n",
    "        \n",
    "        count = 0\n",
    "        itr = self.head\n",
    "        while itr:\n",
    "            if count == index - 1:\n",
    "                itr.next = itr.next.next\n",
    "                break\n",
    "            itr = itr.next\n",
    "            count += 1\n",
    "    \n",
    "    # covert a array/list into linked list\n",
    "    def insert_values(self,dataList):\n",
    "        self.head = None\n",
    "        for data in dataList:\n",
    "            self.insert_at_end(data)\n",
    "    \n",
    "    \n",
    "    # -----------------------Exercise 1--------------------------- #\n",
    "    def insert_after_value(self, data_after, data_to_insert):\n",
    "        if self.head is None:\n",
    "            print(\"Linked list is empty! no such data after\")\n",
    "            return\n",
    "\n",
    "        if self.head.data==data_after:\n",
    "            self.head.next = Node(data_to_insert,self.head.next)\n",
    "            return\n",
    "        \n",
    "        # Search for first occurance of data_after value in linked list\n",
    "        itr = self.head\n",
    "        while itr:\n",
    "            if itr.data == data_after:\n",
    "                # Now insert data_to_insert after data_after node\n",
    "                node = Node(data_to_insert,itr.next)\n",
    "                itr.next = node\n",
    "                break\n",
    "            itr = itr.next\n",
    "            \n",
    "    def remove_by_value(self, data):\n",
    "        if self.head is None:\n",
    "            print(\"Linked list is empty! no such data.\")\n",
    "            return\n",
    "\n",
    "        if self.head.data == data:\n",
    "            self.head = self.head.next\n",
    "            return\n",
    "        \n",
    "        # Remove first node that contains data\n",
    "        itr = self.head\n",
    "        while itr.next:\n",
    "            if itr.next.data == data:\n",
    "                itr.next = itr.next.next\n",
    "                break\n",
    "            itr = itr.next\n",
    "        else:\n",
    "            print(\"Can't find \", data, \" in this linked list\")"
   ]
  },
  {
   "cell_type": "code",
   "execution_count": 10,
   "id": "multiple-graph",
   "metadata": {},
   "outputs": [
    {
     "name": "stdout",
     "output_type": "stream",
     "text": [
      "Original linked list: \n",
      "banana-->mango-->grapes-->orange\n",
      "Insert blueberry at 1: \n",
      "banana-->blueberry-->mango-->grapes-->orange\n",
      "remove data in index 2:\n",
      "banana-->blueberry-->grapes-->orange\n",
      "45-->7-->12-->567-->99\n",
      "45-->7-->12-->567-->99-->67\n"
     ]
    }
   ],
   "source": [
    "if __name__ == '__main__':\n",
    "    ll = LinkedList()\n",
    "    ll.insert_values([\"banana\",\"mango\",\"grapes\",\"orange\"])\n",
    "    print(\"Original linked list: \")\n",
    "    ll.print_linked_list()\n",
    "    ll.insert_at(1,\"blueberry\")\n",
    "    print(\"Insert blueberry at 1: \")\n",
    "    ll.print_linked_list()\n",
    "    ll.remove_at(2)\n",
    "    print(\"remove data in index 2:\")\n",
    "    ll.print_linked_list()\n",
    "\n",
    "    ll.insert_values([45,7,12,567,99])\n",
    "    ll.print_linked_list()\n",
    "    ll.insert_at_end(67)\n",
    "    ll.print_linked_list()"
   ]
  },
  {
   "cell_type": "markdown",
   "id": "auburn-strike",
   "metadata": {},
   "source": [
    "# Exercise"
   ]
  },
  {
   "cell_type": "markdown",
   "id": "tested-planning",
   "metadata": {},
   "source": [
    "Check [this github link](https://github.com/codebasics/data-structures-algorithms-python/blob/master/data_structures/3_LinkedList/3_linked_list_exercise.md) for more detailed info."
   ]
  },
  {
   "cell_type": "markdown",
   "id": "entertaining-walter",
   "metadata": {},
   "source": [
    "## Exercise 1"
   ]
  },
  {
   "cell_type": "markdown",
   "id": "dated-parent",
   "metadata": {},
   "source": [
    "In LinkedList class that we implemented in our tutorial add following two methods,\n",
    "```\n",
    "def insert_after_value(self, data_after, data_to_insert):\n",
    "    # Search for first occurance of data_after value in linked list\n",
    "    # Now insert data_to_insert after data_after node\n",
    "\n",
    "def remove_by_value(self, data):\n",
    "    # Remove first node that contains data\n",
    "```"
   ]
  },
  {
   "cell_type": "code",
   "execution_count": 13,
   "id": "optimum-blowing",
   "metadata": {},
   "outputs": [
    {
     "name": "stdout",
     "output_type": "stream",
     "text": [
      "banana-->mango-->grapes-->orange\n",
      "banana-->mango-->apple-->grapes-->orange\n",
      "banana-->mango-->apple-->grapes\n",
      "Can't find  figs  in this linked list\n",
      "banana-->mango-->apple-->grapes\n",
      "Linked list is empty!\n"
     ]
    }
   ],
   "source": [
    "ll = LinkedList()\n",
    "ll.insert_values([\"banana\",\"mango\",\"grapes\",\"orange\"])\n",
    "ll.print_linked_list()\n",
    "ll.insert_after_value(\"mango\",\"apple\") # insert apple after mango\n",
    "ll.print_linked_list()\n",
    "ll.remove_by_value(\"orange\") # remove orange from linked list\n",
    "ll.print_linked_list()\n",
    "ll.remove_by_value(\"figs\")\n",
    "ll.print_linked_list()\n",
    "ll.remove_by_value(\"banana\")\n",
    "ll.remove_by_value(\"mango\")\n",
    "ll.remove_by_value(\"apple\")\n",
    "ll.remove_by_value(\"grapes\")\n",
    "ll.print_linked_list()"
   ]
  },
  {
   "cell_type": "markdown",
   "id": "metropolitan-grenada",
   "metadata": {},
   "source": [
    "## Exercise 2: Doubly Linked List"
   ]
  },
  {
   "cell_type": "markdown",
   "id": "boring-computer",
   "metadata": {},
   "source": [
    "Implement doubly linked list. The only difference with regular linked list is that double linked has prev node reference as well. That way you can iterate in forward and backward direction. Your node class will look this this:\n",
    "```\n",
    "class Node:\n",
    "    def __init__(self, data=None, next=None, prev=None):\n",
    "        self.data = data\n",
    "        self.next = next\n",
    "        self.prev = prev\n",
    "```\n",
    "\n",
    "Add following new methods,\n",
    "```\n",
    "def print_forward(self):\n",
    "    # This method prints list in forward direction. Use node.next\n",
    "\n",
    "def print_backward(self):\n",
    "    # Print linked list in reverse direction. Use node.prev for this.\n",
    "```\n",
    "\n",
    "Implement all other methods in regular linked list class and make necessary changes for doubly linked list (you need to populate node.prev in all those methods)\n"
   ]
  },
  {
   "cell_type": "code",
   "execution_count": 14,
   "id": "impaired-hours",
   "metadata": {},
   "outputs": [],
   "source": [
    "class Doble_Node:\n",
    "    def __init__(self,data=None,next=None,prev=None):\n",
    "        self.data = data\n",
    "        self.next = next\n",
    "        self.prev = prev"
   ]
  },
  {
   "cell_type": "code",
   "execution_count": null,
   "id": "collectible-beads",
   "metadata": {},
   "outputs": [],
   "source": [
    "class Doble_Linked_List:\n",
    "    def __init__(self):\n",
    "        self.head = None\n",
    "        \n",
    "    def print_forward(self):\n",
    "        if self.head is None:\n",
    "            print(\"List is empty!\")\n",
    "            return\n",
    "        \n",
    "        itr = self.head\n",
    "        dllstr = \"\"\n",
    "        while itr:\n",
    "            dllstr += str(itr.data) + \"<---->\" if itr.next else str(itr.data)\n",
    "            itr = itr.next\n",
    "        print(dllstr)\n",
    "    \n",
    "    def print_backward(self):\n",
    "        \n",
    "        "
   ]
  }
 ],
 "metadata": {
  "kernelspec": {
   "display_name": "Python 3",
   "language": "python",
   "name": "python3"
  },
  "language_info": {
   "codemirror_mode": {
    "name": "ipython",
    "version": 3
   },
   "file_extension": ".py",
   "mimetype": "text/x-python",
   "name": "python",
   "nbconvert_exporter": "python",
   "pygments_lexer": "ipython3",
   "version": "3.9.1"
  }
 },
 "nbformat": 4,
 "nbformat_minor": 5
}
