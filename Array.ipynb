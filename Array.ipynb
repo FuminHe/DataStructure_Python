{
 "cells": [
  {
   "cell_type": "markdown",
   "id": "optional-coordinator",
   "metadata": {},
   "source": [
    "[Arrays - Data Structures & Algorithms Tutorials in Python #3](https://www.youtube.com/watch?v=gDqQf4Ekr2A&list=PLeo1K3hjS3uu_n_a__MI_KktGTLYopZ12&index=3)"
   ]
  },
  {
   "cell_type": "markdown",
   "id": "personalized-commander",
   "metadata": {},
   "source": [
    "# Exercise 1"
   ]
  },
  {
   "cell_type": "markdown",
   "id": "shared-header",
   "metadata": {},
   "source": [
    "https://github.com/codebasics/data-structures-algorithms-python/blob/master/data_structures/2_Arrays/2_arrays_exercise.md"
   ]
  },
  {
   "cell_type": "markdown",
   "id": "english-inquiry",
   "metadata": {},
   "source": [
    "Let us say your expense for every month are listed below:\n",
    "\n",
    "    January - 2200\n",
    "    February - 2350\n",
    "    March - 2600\n",
    "    April - 2130\n",
    "    May - 2190\n",
    "    \n",
    "Create a list to store these monthly expenses and using that find out,\n",
    "\n",
    "1. In Feb, how many dollars you spent extra compare to January?\n",
    "2. Find out your total expense in first quarter (first three months) of the year.\n",
    "3. Find out if you spent exactly 2000 dollars in any month\n",
    "4. June month just finished and your expense is 1980 dollar. Add this item to our monthly expense list\n",
    "5. You returned an item that you bought in a month of April and\n",
    "got a refund of 200$. Make a correction to your monthly expense list\n",
    "based on this"
   ]
  },
  {
   "cell_type": "code",
   "execution_count": 12,
   "id": "worst-telescope",
   "metadata": {},
   "outputs": [
    {
     "name": "stdout",
     "output_type": "stream",
     "text": [
      "1. You spent $150 extra compare to January\n",
      "2. Your total expense in first quarter (first three months) of the year is $7150\n",
      "3. Months that you spent exactly 2000 dollars: []\n",
      "4. Add June month to expense: [2200, 2350, 2600, 2130, 2190, 1980]\n",
      "5. Make a correction to your monthly expense list: [2200, 2350, 2600, 1930, 2190, 1980]\n"
     ]
    }
   ],
   "source": [
    "# create expense array\n",
    "expense=[2200,2350,2600,2130,2190]\n",
    "\n",
    "# 1\n",
    "result_1 = expense[1] - expense[0]\n",
    "print(\"1. You spent $\" + str(result_1), \"extra compare to January\")\n",
    "\n",
    "# 2\n",
    "result_2 = 0\n",
    "for i in range(3):\n",
    "    result_2 += expense[i]\n",
    "print(\"2. Your total expense in first quarter (first three months) of the year is $\" + str(result_2))\n",
    "\n",
    "# 3\n",
    "result_3 = []\n",
    "month = {\n",
    "    0: \"January\",\n",
    "    1:\"February\",\n",
    "    2:\"March\",\n",
    "    3:\"April\",\n",
    "    4:\"May\"\n",
    "}\n",
    "for i in range(len(expense)):\n",
    "    if expense[i] == 2000:\n",
    "        result_3.append(month[i])\n",
    "print(\"3. Months that you spent exactly 2000 dollars:\", result_3)\n",
    "\n",
    "# 4\n",
    "expense.append(1980)\n",
    "print(\"4. Add June month to expense:\",expense)\n",
    "\n",
    "# 5\n",
    "expense[3] = expense[3] - 200\n",
    "print(\"5. Make a correction to your monthly expense list:\",expense)\n",
    "        \n"
   ]
  },
  {
   "cell_type": "markdown",
   "id": "greenhouse-duplicate",
   "metadata": {},
   "source": [
    "# Exercise 2"
   ]
  },
  {
   "cell_type": "markdown",
   "id": "private-absolute",
   "metadata": {},
   "source": [
    "You have a list of your favourite marvel super heros.\n",
    "\n",
    "`heros=['spider man','thor','hulk','iron man','captain america']`\n",
    "\n",
    "Using this find out,\n",
    "\n",
    "```\n",
    "1. Length of the list\n",
    "2. Add 'black panther' at the end of this list\n",
    "3. You realize that you need to add 'black panther' after 'hulk',\n",
    "   so remove it from the list first and then add it after 'hulk'\n",
    "4. Now you don't like thor and hulk because they get angry easily :)\n",
    "   So you want to remove thor and hulk from list and replace them with doctor strange (because he is cool).\n",
    "   Do that with one line of code.\n",
    "5. Sort the heros list in alphabetical order (Hint. Use dir() functions to list down all functions available in list)\n",
    "```"
   ]
  },
  {
   "cell_type": "code",
   "execution_count": 23,
   "id": "quiet-andrews",
   "metadata": {},
   "outputs": [
    {
     "name": "stdout",
     "output_type": "stream",
     "text": [
      "1. The length of the list is: 5\n",
      "2. Add 'black panther' at the end of this list: ['spider man', 'thor', 'hulk', 'iron man', 'captain america', 'black panther']\n",
      "3. Add 'black panther' after 'hulk' ['spider man', 'thor', 'hulk', 'black panther', 'iron man', 'captain america']\n",
      "4. Replace thor and hulk with doctor strange: ['spider man', 'doctor strange', 'black panther', 'iron man', 'captain america']\n",
      "5. Sort the heros list in alphabetical order: ['black panther', 'captain america', 'doctor strange', 'iron man', 'spider man']\n"
     ]
    }
   ],
   "source": [
    "heros=['spider man','thor','hulk','iron man','captain america']\n",
    "\n",
    "# 1\n",
    "print(\"1. The length of the list is:\",len(heros))\n",
    "\n",
    "# 2\n",
    "heros.append(\"black panther\")\n",
    "print(\"2. Add 'black panther' at the end of this list:\",heros)\n",
    "\n",
    "# 3\n",
    "heros.pop()\n",
    "heros.insert(3,\"black panther\")\n",
    "print(\"3. Add 'black panther' after 'hulk'\", heros)\n",
    "\n",
    "# 4\n",
    "heros[1:3] = ['doctor strange']\n",
    "print(\"4. Replace thor and hulk with doctor strange:\",heros)\n",
    "\n",
    "# 5\n",
    "# print(dir(heros))\n",
    "heros.sort()\n",
    "print(\"5. Sort the heros list in alphabetical order:\",heros)"
   ]
  },
  {
   "cell_type": "markdown",
   "id": "addressed-dancing",
   "metadata": {},
   "source": [
    "# Exercise 3"
   ]
  },
  {
   "cell_type": "markdown",
   "id": "innocent-intervention",
   "metadata": {},
   "source": [
    "Create a list of all odd numbers between 1 and a max number. Max number is something you need to take from a user using input() function"
   ]
  },
  {
   "cell_type": "code",
   "execution_count": 28,
   "id": "heavy-briefing",
   "metadata": {},
   "outputs": [
    {
     "name": "stdout",
     "output_type": "stream",
     "text": [
      "Please enter a number: 4\n",
      "A list of all odd numbers: [1, 3]\n"
     ]
    }
   ],
   "source": [
    "max_number = input(\"Please enter a number: \")\n",
    "\n",
    "result = []\n",
    "for i in range(1,int(max_number)+1):\n",
    "    if i % 2 != 0:\n",
    "        result.append(i)\n",
    "print(\"A list of all odd numbers:\",result)"
   ]
  },
  {
   "cell_type": "code",
   "execution_count": null,
   "id": "subject-tobacco",
   "metadata": {},
   "outputs": [],
   "source": []
  }
 ],
 "metadata": {
  "kernelspec": {
   "display_name": "Python 3",
   "language": "python",
   "name": "python3"
  },
  "language_info": {
   "codemirror_mode": {
    "name": "ipython",
    "version": 3
   },
   "file_extension": ".py",
   "mimetype": "text/x-python",
   "name": "python",
   "nbconvert_exporter": "python",
   "pygments_lexer": "ipython3",
   "version": "3.9.1"
  }
 },
 "nbformat": 4,
 "nbformat_minor": 5
}
