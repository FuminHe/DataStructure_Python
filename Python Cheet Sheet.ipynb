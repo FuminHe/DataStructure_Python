{
 "cells": [
  {
   "cell_type": "markdown",
   "id": "empty-revision",
   "metadata": {},
   "source": [
    "# Python Basics"
   ]
  },
  {
   "cell_type": "markdown",
   "id": "through-dover",
   "metadata": {},
   "source": [
    "[Python Tutorial - Python for Beginners](https://www.youtube.com/watch?v=_uQrJ0TkZlc&t=1678s)"
   ]
  },
  {
   "cell_type": "markdown",
   "id": "closed-experiment",
   "metadata": {},
   "source": [
    "### Receiving Input"
   ]
  },
  {
   "cell_type": "code",
   "execution_count": 7,
   "id": "following-juice",
   "metadata": {},
   "outputs": [
    {
     "name": "stdout",
     "output_type": "stream",
     "text": [
      "Birth year: 1999\n",
      "the birth year is: 1999\n",
      "type of birth_year <class 'int'>\n"
     ]
    }
   ],
   "source": [
    "# int(X): converting the X into an integer\n",
    "birth_year = int(input('Birth year: '))\n",
    "print('the birth year is:', birth_year)\n",
    "print('type of birth_year', type(birth_year))"
   ]
  },
  {
   "cell_type": "markdown",
   "id": "working-thing",
   "metadata": {},
   "source": [
    "**Compare with JS**\n",
    "\n",
    "'10' + 1, we will get '101'\n",
    "\n",
    "'10' * 1 & '10' / 1, we will get 10\n",
    "\n",
    "'10' - 1, we will get 9"
   ]
  },
  {
   "cell_type": "markdown",
   "id": "finished-grounds",
   "metadata": {},
   "source": [
    "### Strings"
   ]
  },
  {
   "cell_type": "code",
   "execution_count": 9,
   "id": "comparable-vertical",
   "metadata": {},
   "outputs": [
    {
     "name": "stdout",
     "output_type": "stream",
     "text": [
      "Python's course\n",
      "---------------------\n",
      "\n",
      "we could get \n",
      "multiple lines\n",
      "\n",
      "like this.\n",
      "\n"
     ]
    }
   ],
   "source": [
    "print(\"Python's course\")\n",
    "\n",
    "print('---------------------')\n",
    "\n",
    "print('''\n",
    "we could get \n",
    "multiple lines\n",
    "\n",
    "like this.\n",
    "''')"
   ]
  },
  {
   "cell_type": "code",
   "execution_count": 15,
   "id": "periodic-sight",
   "metadata": {},
   "outputs": [
    {
     "name": "stdout",
     "output_type": "stream",
     "text": [
      "sample_string[0]: P\n",
      "sample_string[-1]: s\n",
      "sample_string[0:3]: Pyt\n",
      "sample_string[:7]: Python_\n",
      "sample_string[7:]: for_Beginners\n",
      "sample_string[1:-1]: ython_for_Beginner\n"
     ]
    }
   ],
   "source": [
    "sample_string = \"Python_for_Beginners\"\n",
    "\n",
    "print('sample_string[0]:', sample_string[0])\n",
    "print('sample_string[-1]:', sample_string[-1])\n",
    "\n",
    "print('sample_string[0:3]:', sample_string[0:3])\n",
    "print('sample_string[:7]:', sample_string[:7])\n",
    "print('sample_string[7:]:', sample_string[7:])\n",
    "\n",
    "print('sample_string[1:-1]:', sample_string[1:-1])"
   ]
  },
  {
   "cell_type": "code",
   "execution_count": 31,
   "id": "saved-advertiser",
   "metadata": {},
   "outputs": [
    {
     "name": "stdout",
     "output_type": "stream",
     "text": [
      "Formatted string:  John [Smith] is a coder\n",
      "-------------------------------\n",
      "len() function: 4\n",
      "-------------------------------\n",
      ".upper(): JOHN\n",
      ".lower(): john\n",
      ".title(): John\n",
      ".find(\"o\"): 1\n",
      ".replace(\"mi\",\"--\"): S--th\n",
      "'oh' in first_name: True\n"
     ]
    }
   ],
   "source": [
    "first_name = 'John'\n",
    "last_name = 'Smith'\n",
    "\n",
    "# formatted string\n",
    "message = f'{first_name} [{last_name}] is a coder'\n",
    "print(\"Formatted string: \",message)\n",
    "print('-------------------------------')\n",
    "\n",
    "# string function\n",
    "print('len() function:', len(first_name))\n",
    "print('-------------------------------')\n",
    "\n",
    "# string methods\n",
    "print('.upper():', first_name.upper())\n",
    "print('.lower():', first_name.lower())\n",
    "print('.title():', first_name.title())\n",
    "print('.find(\"o\"):', first_name.find('o'))\n",
    "print('.replace(\"mi\",\"--\"):', last_name.replace(\"mi\",\"--\"))\n",
    "\n",
    "# in method\n",
    "print(\"'oh' in first_name:\",'oh' in first_name)"
   ]
  },
  {
   "cell_type": "markdown",
   "id": "turned-executive",
   "metadata": {},
   "source": [
    "### Arithmetic Operations"
   ]
  },
  {
   "cell_type": "code",
   "execution_count": 37,
   "id": "useful-daisy",
   "metadata": {},
   "outputs": [
    {
     "name": "stdout",
     "output_type": "stream",
     "text": [
      "/ returns a float:  3.3333333333333335\n",
      "// returns an int:  3\n",
      "% returns the remainder of division: 1\n",
      "** returns the exponentiation: 1000\n",
      "-------------------------------------------\n",
      "x += 1 => x = x + 1\n"
     ]
    }
   ],
   "source": [
    "print('/ returns a float: ', 10/3)\n",
    "print('// returns an int: ', 10//3)\n",
    "print('% returns the remainder of division:', 10%3)\n",
    "print('** returns the exponentiation:', 10**3)\n",
    "\n",
    "print('-------------------------------------------')\n",
    "print('x += 1 => x = x + 1')"
   ]
  },
  {
   "cell_type": "markdown",
   "id": "willing-tyler",
   "metadata": {},
   "source": [
    "### Basic If Statement"
   ]
  },
  {
   "cell_type": "markdown",
   "id": "tracked-chosen",
   "metadata": {},
   "source": [
    "```\n",
    "if condition1.1 and/or not condition1.2:\n",
    "    xxxx\n",
    "elif condition2:\n",
    "    xxxx\n",
    "else:\n",
    "    xxxx\n",
    "```\n",
    "\n"
   ]
  },
  {
   "cell_type": "markdown",
   "id": "representative-virus",
   "metadata": {},
   "source": [
    "### Basic While loop"
   ]
  },
  {
   "cell_type": "markdown",
   "id": "alert-duplicate",
   "metadata": {},
   "source": [
    "```\n",
    "while condition:\n",
    "    xxxxx\n",
    "    xxxxx\n",
    "```"
   ]
  },
  {
   "cell_type": "code",
   "execution_count": 2,
   "id": "altered-establishment",
   "metadata": {},
   "outputs": [
    {
     "name": "stdout",
     "output_type": "stream",
     "text": [
      "Guess: 1\n",
      "Guess: 9\n",
      "You Win!\n"
     ]
    }
   ],
   "source": [
    "# while could have else part,\n",
    "# if the while part complete without getting a break -> do else\n",
    "# if get a break -> ignore else part\n",
    "\n",
    "count = 0\n",
    "while count < 3:\n",
    "    guess = int(input('Guess: '))\n",
    "    count += 1\n",
    "    if guess == 9:\n",
    "        print('You Win!')\n",
    "        break\n",
    "else:\n",
    "    print('You Lose!')"
   ]
  },
  {
   "cell_type": "markdown",
   "id": "widespread-investment",
   "metadata": {},
   "source": [
    "### Basic For Loop    "
   ]
  },
  {
   "cell_type": "markdown",
   "id": "several-hands",
   "metadata": {},
   "source": [
    "```\n",
    "for item in 'string':\n",
    "    XXXXX\n",
    "\n",
    "for item in [list_item1, list_item2, ..., list_itemn]:\n",
    "    xxxxx\n",
    "    \n",
    "for item in range(10): # item is 0 - 9\n",
    "    xxxxxxx\n",
    "\n",
    "for item in range(start, end, step):\n",
    "e.g. for item in range(5,10,2): # item is 5,7,9\n",
    "         xxxxxxx\n",
    "```"
   ]
  },
  {
   "cell_type": "markdown",
   "id": "adequate-procedure",
   "metadata": {},
   "source": [
    "### Lists"
   ]
  },
  {
   "cell_type": "markdown",
   "id": "digital-steel",
   "metadata": {},
   "source": [
    "### Tuples"
   ]
  },
  {
   "cell_type": "markdown",
   "id": "adjacent-lender",
   "metadata": {},
   "source": [
    "Tuples are similar to lists. But tuples are **immutable**, means can't add new items/remove existing items."
   ]
  },
  {
   "cell_type": "code",
   "execution_count": 4,
   "id": "brazilian-lebanon",
   "metadata": {},
   "outputs": [
    {
     "name": "stdout",
     "output_type": "stream",
     "text": [
      "<class 'tuple'>\n"
     ]
    }
   ],
   "source": [
    "# define a tuple\n",
    "sample_truple = (1,2,3)\n",
    "print(type(sample_truple))\n",
    "# sample_truple = 3 -> the variable could be re-assigned\n",
    "# print(sample_truple)\n",
    "# but the value inside the truple can't be changed\n",
    "# sample_truple[0] = 10 -> ERROR!\n",
    "\n",
    "# only has count(),index(); no append/pop...."
   ]
  },
  {
   "cell_type": "markdown",
   "id": "metropolitan-disposition",
   "metadata": {},
   "source": [
    "### Unpacking"
   ]
  },
  {
   "cell_type": "code",
   "execution_count": 11,
   "id": "induced-short",
   "metadata": {},
   "outputs": [
    {
     "name": "stdout",
     "output_type": "stream",
     "text": [
      "1 2 3\n"
     ]
    }
   ],
   "source": [
    "# could be used in list&truple as well\n",
    "coordinates = (1,2,3)\n",
    "\n",
    "x,y,z = coordinates\n",
    "\n",
    "print(x,y,z)"
   ]
  },
  {
   "cell_type": "markdown",
   "id": "abandoned-blind",
   "metadata": {},
   "source": [
    "### Dictionary"
   ]
  },
  {
   "cell_type": "code",
   "execution_count": 22,
   "id": "utility-observation",
   "metadata": {},
   "outputs": [
    {
     "name": "stdout",
     "output_type": "stream",
     "text": [
      "John\n",
      "something wrong!\n",
      "{'name': 'John', 'age': 30, 'gender': 'male'}\n"
     ]
    }
   ],
   "source": [
    "# keys are unique!\n",
    "sample_dictionary = {\n",
    "    \"name\": \"John Smith\",\n",
    "    \"age\": 30\n",
    "}\n",
    "\n",
    "# update key-value pair\n",
    "sample_dictionary[\"name\"] = \"John\"\n",
    "\n",
    "# add new key-value pair\n",
    "sample_dictionary[\"gender\"] = \"male\"\n",
    "\n",
    "# get the key-value\n",
    "print(sample_dictionary.get(\"name\", \"something wrong!\"))\n",
    "print(sample_dictionary.get(\"birthday\", \"something wrong!\"))\n",
    "\n",
    "print(sample_dictionary)"
   ]
  },
  {
   "cell_type": "markdown",
   "id": "ahead-information",
   "metadata": {},
   "source": [
    "### Function"
   ]
  },
  {
   "cell_type": "markdown",
   "id": "daily-ratio",
   "metadata": {},
   "source": [
    "1. keyword arguments after position arguments\n",
    "2. \n",
    "```\n",
    "def function_name:\n",
    "    xxxx\n",
    "    return result1,result2,...,resultn\n",
    "```"
   ]
  },
  {
   "cell_type": "code",
   "execution_count": 27,
   "id": "instructional-meter",
   "metadata": {},
   "outputs": [
    {
     "name": "stdout",
     "output_type": "stream",
     "text": [
      "2\n"
     ]
    }
   ],
   "source": [
    "def test(num1,num2):\n",
    "    return num1,num2\n",
    "\n",
    "result = test(1,2)\n",
    "print(result[1])"
   ]
  },
  {
   "cell_type": "markdown",
   "id": "republican-grant",
   "metadata": {},
   "source": [
    "### Exceptions"
   ]
  },
  {
   "cell_type": "markdown",
   "id": "separate-airfare",
   "metadata": {},
   "source": [
    "```\n",
    "try:\n",
    "    code....\n",
    "except:\n",
    "    code for if we enconter error\n",
    "else:\n",
    "    code for if we don't enconter any error\n",
    "```"
   ]
  },
  {
   "cell_type": "markdown",
   "id": "arbitrary-corrections",
   "metadata": {},
   "source": [
    "### Classes"
   ]
  },
  {
   "cell_type": "markdown",
   "id": "specialized-creek",
   "metadata": {},
   "source": [
    "```\n",
    "class UpperCaseForEachInitial:\n",
    "    # constructor\n",
    "    def __init__(self, attr1,attr2):\n",
    "        self.attr1 = attr1\n",
    "        self.attr2 = attr2\n",
    "    \n",
    "    # methods\n",
    "    def method_name(self,attr):\n",
    "        xxxxx\n",
    "```"
   ]
  },
  {
   "cell_type": "code",
   "execution_count": 34,
   "id": "ranging-exhibition",
   "metadata": {},
   "outputs": [
    {
     "name": "stdout",
     "output_type": "stream",
     "text": [
      "Hi! I'm John.\n",
      "Hi! I'm Bob.\n"
     ]
    }
   ],
   "source": [
    "class Person:\n",
    "    def __init__(self,name,age):\n",
    "        self.name = name\n",
    "        self.age = age\n",
    "    \n",
    "    def talk(self):\n",
    "        print(f\"Hi! I'm {self.name}.\")\n",
    "\n",
    "john = Person(\"John\",20)\n",
    "john.talk()\n",
    "\n",
    "bob = Person(\"Bob\",21)\n",
    "bob.talk()"
   ]
  },
  {
   "cell_type": "markdown",
   "id": "provincial-prior",
   "metadata": {},
   "source": [
    "### Inheritance"
   ]
  },
  {
   "cell_type": "markdown",
   "id": "protecting-perfume",
   "metadata": {},
   "source": [
    "```\n",
    "class ParentClass:\n",
    "    def method1(self,attr):\n",
    "        xxxx\n",
    "        \n",
    "class ChildClass1(ParentClass):\n",
    "    pass\n",
    "    \n",
    "or\n",
    "\n",
    "class ChildClass2(ParentClass):\n",
    "    def method_for_child_class(self):\n",
    "        xxxx\n",
    "\n",
    "```"
   ]
  },
  {
   "cell_type": "markdown",
   "id": "veterinary-serum",
   "metadata": {},
   "source": [
    "### Module"
   ]
  },
  {
   "cell_type": "markdown",
   "id": "close-graph",
   "metadata": {},
   "source": [
    "1. create a utils.py to store some functions which might be used by other py files from your project"
   ]
  },
  {
   "cell_type": "markdown",
   "id": "rolled-static",
   "metadata": {},
   "source": [
    "### Package"
   ]
  },
  {
   "cell_type": "markdown",
   "id": "legendary-clearance",
   "metadata": {},
   "source": [
    "1. whole project -> package -> modules"
   ]
  },
  {
   "cell_type": "code",
   "execution_count": null,
   "id": "psychological-balance",
   "metadata": {},
   "outputs": [],
   "source": []
  }
 ],
 "metadata": {
  "kernelspec": {
   "display_name": "Python 3",
   "language": "python",
   "name": "python3"
  },
  "language_info": {
   "codemirror_mode": {
    "name": "ipython",
    "version": 3
   },
   "file_extension": ".py",
   "mimetype": "text/x-python",
   "name": "python",
   "nbconvert_exporter": "python",
   "pygments_lexer": "ipython3",
   "version": "3.9.1"
  }
 },
 "nbformat": 4,
 "nbformat_minor": 5
}
